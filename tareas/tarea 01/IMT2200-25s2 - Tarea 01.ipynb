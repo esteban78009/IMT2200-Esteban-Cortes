{
 "cells": [
  {
   "cell_type": "markdown",
   "id": "a34d140a",
   "metadata": {},
   "source": [
    "IMT 2200 - Introducción a Ciencia de Datos<br>\n",
    "**Pontificia Universidad Católica de Chile**<br>\n",
    "**Instituto de Ingeniería Matemática y Computacional**<br>\n",
    "**Semestre 2025-S2**<br>\n",
    "**Profesor:** Rodrigo A. Carrasco <br>\n",
    "\n",
    "---\n",
    "\n",
    "## Tarea 01 – Cargando y Analizando Datos\n",
    "\n",
    "- **Fecha de Entrega:** martes 26 de agosto de 2025, a las 23:59.\n",
    "- \n",
    "**Formato de entrega:** Notebook ejecutado y comentado (`.ipynb`) en l emódulo de Tara 01 habilitado en Canvas.\n",
    "\n",
    "\n"
   ]
  },
  {
   "cell_type": "markdown",
   "id": "b6928ed9-0a2b-4588-8282-b3f3e5e24a8c",
   "metadata": {},
   "source": [
    "## Instrucciones\n",
    "\n",
    "- Esta Tarea debe desarrollarse de manera totalmente *individual*, de acuerdo a lo establecido en la sección de Integridad Académica en el programa del curso.\n",
    "- La Tarea debe ser desarrollada en lenguaje de programación Python y la entrega en formato Jupyter Notebook.\n",
    "- El desarrollo del Notebook debe ser claro y ordenado, incluyendo anotaciones (markdown) y comentarios que permitan seguir fácilmente el código y los pasos implementados a los correctores, y siguiendo buenas prácticas de programación. La presentación y claridad del notebook y código forman parte de la evaluación de la tarea.\n",
    "- Notebook **autocontenible** que:\n",
    "   - Ejecute sin errores todas las celdas.\n",
    "  - Contenga tanto el código como los comentarios y explicaciones necesarias.\n",
    "  - Incluya visualizaciones claras y correctamente etiquetadas.\n",
    "- No se aceptarán notebooks con celdas rotas o que dependan de rutas externas no indicadas en la tara.\n",
    "\n",
    "- Deben hacer sus consultas y comentarios sobre la Tarea a traves del canal de Tareas en eo del curso en Canvas.os.\n",
    "cteriza."
   ]
  },
  {
   "cell_type": "markdown",
   "id": "35a88d5e-b718-4b8e-81c8-dc169d02e88e",
   "metadata": {},
   "source": [
    "## 1. Objetivos\n",
    "\n",
    "- Aplicar los conceptos iniciales de manejo de datos y análisis exploratorio vistos en clases.\n",
    "- Practicar la lectura, limpieza y manipulación de datos en Python.\n",
    "- Desarrollar habilidades para visualizar y describir patrones y tendencias en conjuntos de datos reales.\n",
    "- Fomentar la capacidad de comunicar resultados de forma clara y fundamentada.\n",
    "\n",
    "### 1.1 Objetivo educacional\n",
    "\n",
    "Esta Tarea tiene como objetivo que los estudiantes desarrollen la capacidad de manejar algunas de las librerías centrales para el desarrollo de Ciencia de Datos, con foco en la lectura y exploración de datos. \n",
    "\n",
    "Para los ejercicios a continuación, usted deberá leer, inspeccionar, manipular y graficar conjuntos de datos en distintos formatos, de manera de responder las preguntas de cada parte de la Tarea.\n",
    "\n",
    "### 1.2 Pregunta de ciencia de datos\n",
    "\n",
    "Para esta tarea, tendremos como objetivo comprender cómo han cambiado los juegos de mesa en los últimos 40 años. Específicamente queremos saber qué tipos de juegos se han vuelto más comunes hoy en día y qué los caracteriza.\n",
    "\n",
    "### 1.3 Recomendaciones\n",
    "- Utiliza las librerías sugeridas en el notebook o justifica brevemente si incorporas otras.\n",
    "- Revisa que todas las celdas se ejecuten en orden, desde el inicio, sin errores.\n",
    "- Comenta tu código para explicar qué hace cada sección relevante.\n",
    "- Asegúrate de que las visualizaciones sean fáciles de interpretar y tengan títulos y etiquetas adecuados."
   ]
  },
  {
   "cell_type": "markdown",
   "id": "116596ef",
   "metadata": {},
   "source": [
    "## 2. Datos\n",
    "\n",
    "Estaremos utilizando información extraída desde [BoardGameGeek.com](https://boardgamegeek.com/), una plataforma para aficionados de los juegos de mesa, que permite a sus usuarios registrar, calificar e intercambiar sus juegos favoritos. Actualmente, BGG es una de las bases de datos más extensa y diversa de juegos de mesa.\n",
    "\n",
    "El dataset con el que trabajaremos consiste en un grupo de archivos CSV que contienen información sobre más de 100.000 juegos de mesa almacenados en la plataforma. Este puede descargarse directamente desde el siguiente enlace: https://www.kaggle.com/datasets/mshepherd/board-games Para descargar los datos, haga click en el botón de **Download**, donde podrá descargar los archivos como `.zip`, o bien utilizar la API de Kaggle.\n",
    "\n",
    "Para el desarrollo de esta tarea, solo utilizaremos los archivos con el prefijo `bgg_`.\n",
    "\n",
    "**Si utiliza la API de Kaggle para descargar los datos, deje el código utilizado en la siguiente celda:**"
   ]
  },
  {
   "cell_type": "code",
   "execution_count": 1,
   "id": "3499fd7e",
   "metadata": {},
   "outputs": [],
   "source": [
    "# Descarga de datos desde Kaggle"
   ]
  },
  {
   "cell_type": "markdown",
   "id": "c32f6e52",
   "metadata": {},
   "source": [
    "### 2.1 Librerías\n",
    "\n",
    "Para esta tarea recomendamos al menos usar las librerías indicadas en la siguiente celda del Notebook. Puede agregar otras si lo estima conveniente para responder de mejor forma las preguntas de la Tarea."
   ]
  },
  {
   "cell_type": "code",
   "execution_count": 2,
   "id": "87be9d83",
   "metadata": {},
   "outputs": [],
   "source": [
    "import numpy as np\n",
    "import pandas as pd\n",
    "import matplotlib.pyplot as plt\n",
    "import os\n",
    "from pathlib import Path"
   ]
  },
  {
   "cell_type": "markdown",
   "id": "49c9c1e7",
   "metadata": {},
   "source": [
    "## 3. Desarrollo\n",
    "\n",
    "Para cada una de las siguientes preguntas o actividades incluya una o más celdas de código y Markdown con las respuestas o comentarios necesarios para contestar la pregunta o lograr la actividad. Agregue sus celdas a continuación de cada pregunta para que el Notebook quede ordenado.\n",
    "\n",
    "En el caso de gráficos, figuras o tablas, asegúrese que todas tengan título, etiquetas en los ejes o haya claridad de los contenidos."
   ]
  },
  {
   "cell_type": "markdown",
   "id": "dfc274ca",
   "metadata": {},
   "source": [
    "### 3.1 DataFrame unificado (1 punto)\n",
    "\n",
    "Vamos a cargar en un DataFrame los datos de juegos guardados en el documento `bgg_GameItem.csv`. Al inspeccionar nuestros datos, podemos notar que los valores de ciertas comunas vienen \"codificados\" con ID. Para comenzar, vamos a juntar la información de los distintos archivos descargados.\n",
    "\n",
    "**a) (0.8 pts)** Genere un DataFrame único con toda la información de cada juego, incluyendo: nombres de artistas y diseñadores involucrados, mecánicas, categorías, tipo, familia y editorial. Guarde este DataFrame en un nuevo archivo CSV."
   ]
  },
  {
   "cell_type": "code",
   "execution_count": 3,
   "id": "12aabf07",
   "metadata": {},
   "outputs": [
    {
     "name": "stdout",
     "output_type": "stream",
     "text": [
      "Index(['bgg_id', 'name', 'year', 'game_type', 'designer', 'artist',\n",
      "       'publisher', 'min_players', 'max_players', 'min_players_rec',\n",
      "       'max_players_rec', 'min_players_best', 'max_players_best', 'min_age',\n",
      "       'min_age_rec', 'min_time', 'max_time', 'category', 'mechanic',\n",
      "       'cooperative', 'compilation', 'compilation_of', 'family',\n",
      "       'implementation', 'integration', 'rank', 'num_votes', 'avg_rating',\n",
      "       'stddev_rating', 'bayes_rating', 'complexity', 'language_dependency',\n",
      "       'bga_id', 'dbpedia_id', 'luding_id', 'spielen_id', 'wikidata_id',\n",
      "       'wikipedia_id'],\n",
      "      dtype='object')\n"
     ]
    }
   ],
   "source": [
    "def dato(nombre_csv):\n",
    "    return pd.read_csv(os.path.join(\"dataset board games\", nombre_csv + \".csv\"))\n",
    "\n",
    "juego = dato(\"bgg_GameItem\")\n",
    "categorias = dato(\"bgg_Category\")\n",
    "familia = dato(\"bgg_GameFamily\")\n",
    "tipo = dato(\"bgg_GameType\")\n",
    "mecanicas = dato(\"bgg_Mechanic\")\n",
    "personas = dato(\"bgg_Person\")\n",
    "publisher = dato(\"bgg_Publisher\")\n",
    "\n",
    "df_completo = pd.concat([juego, categorias, familia, tipo, mecanicas, personas, publisher], axis=0)\n",
    "df_completo.to_csv(\"dataset board games/dataset_completo.csv\", index=True)\n",
    "\n",
    "print(df_completo.columns)\n",
    "\n",
    "\n"
   ]
  },
  {
   "cell_type": "markdown",
   "id": "bd933937",
   "metadata": {},
   "source": [
    "**b) (0.2 pts)** ¿Cuánto espacio en disco ocupa este DataFrame? ¿Cuánto espacio en disco ocupan los documentos CSV separados? ¿A qué se debe esta diferencia? Comente.\n",
    "\n"
   ]
  },
  {
   "cell_type": "markdown",
   "id": "030904e0",
   "metadata": {},
   "source": []
  },
  {
   "cell_type": "markdown",
   "id": "0a146fdb",
   "metadata": {},
   "source": [
    "los archivos por separado pesan 40.1 mb mientras que el archivo combinado pesa  22.4 mb la razon de esto es puesto que\n",
    "al unirse los datos los archivos que tienen datos repetidos se eliminan y solo se quedan con una sola copia de esos datos\n",
    "ademas que al unirlo los archivos que comparten se mantienen haciendo un uso mas eficiente del espacio"
   ]
  },
  {
   "cell_type": "markdown",
   "id": "b8c7bec6",
   "metadata": {},
   "source": [
    "### 3.2 Juegos publicados anualmente (1.5 puntos)\n",
    "\n",
    "\n",
    "**a) (0.5 pts)** Limpie los datos para dejar solo aquellos que tienen valores válidos de año de publicación. Luego responda: ¿cuál es el rango de años con el que estamos trabajando? ¿Tienen sentido estos años?\n"
   ]
  },
  {
   "cell_type": "code",
   "execution_count": 4,
   "id": "a8c60679",
   "metadata": {},
   "outputs": [
    {
     "name": "stdout",
     "output_type": "stream",
     "text": [
      "-3500 2026\n"
     ]
    }
   ],
   "source": [
    "#respuesta inspirada en la respuesta dada de gemini\n",
    "\n",
    "df_2 = df_completo.copy()\n",
    "df_2.dropna(subset = [\"year\"], inplace = True)\n",
    "\n",
    "\n",
    "df_2[\"year\"] = pd.to_numeric(df_2[\"year\"], errors='coerce')\n",
    "df_2[\"year\"] = df_2[\"year\"].astype(int)\n",
    "\n",
    "\n",
    "\n",
    "min = df_2[\"year\"].min()\n",
    "max = df_2[\"year\"].max()\n",
    "\n",
    "print(min ,  max)\n",
    "\n"
   ]
  },
  {
   "cell_type": "markdown",
   "id": "a24f59e8",
   "metadata": {},
   "source": [
    "el rango con el que estamos trabajando es [-3500 - 2026] es decir , estamos trabajando con un conjunto de datos de 5526 años en total\n",
    "\n",
    "los datos tienen parcialmente sentido, lo que no posee total sentido es el año 2026, sin embargo, puede ser un representante de juegos de mesa que estaran disponibles en el siguiente año, o una columna hecha en preparacion de la misma"
   ]
  },
  {
   "cell_type": "code",
   "execution_count": 5,
   "id": "860d098a",
   "metadata": {},
   "outputs": [
    {
     "name": "stdout",
     "output_type": "stream",
     "text": [
      "87637     2026\n",
      "99711     2026\n",
      "84728     2025\n",
      "95304     2025\n",
      "95686     2025\n",
      "96943     2025\n",
      "98208     2025\n",
      "98528     2025\n",
      "105594    2025\n",
      "107793    2025\n",
      "Name: year, dtype: int64\n"
     ]
    }
   ],
   "source": [
    "print(df_2[\"year\"].nlargest(10))"
   ]
  },
  {
   "cell_type": "markdown",
   "id": "fdfc5c8e",
   "metadata": {},
   "source": [
    "de esta forma, se confirma que, en efecto, los datos mostrados son por juegos de mesa que existen en el dataset y pueden o no ser lanzados el siguiente año"
   ]
  },
  {
   "cell_type": "markdown",
   "id": "7b8d452e",
   "metadata": {},
   "source": [
    "**b) (0.5 pts)** Seleccione solamente los juegos entre los años 1980 y 2025. Luego grafique la cantidad de juegos publicados por año. ¿Cómo es esta tendencia? Comente."
   ]
  },
  {
   "cell_type": "code",
   "execution_count": 6,
   "id": "f073e58e",
   "metadata": {},
   "outputs": [
    {
     "data": {
      "image/png": "[encoded data removed]",
      "text/plain": [
       "<Figure size 1400x700 with 1 Axes>"
      ]
     },
     "metadata": {},
     "output_type": "display_data"
    }
   ],
   "source": [
    "\n",
    "datos_trabajo_actual = df_2[(df_2[\"year\"] >= 1980) & (df_2[\"year\"] <= 2025)]\n",
    "\n",
    "conteo_años = datos_trabajo_actual.groupby(\"year\").size()\n",
    "\n",
    "conteo_años.plot(kind=\"bar\", figsize=(14,7))\n",
    "plt.title(\"Cantidad de lanzamientos por año (1980–2025)\", fontsize=14)\n",
    "plt.xlabel(\"Año\")\n",
    "plt.ylabel(\"Cantidad de lanzamientos\")\n",
    "plt.show()"
   ]
  },
  {
   "cell_type": "markdown",
   "id": "c0fff143",
   "metadata": {},
   "source": [
    "la tendencia es a la alta teniendo su pico en el año 2019, posterior a esto se ve como tiende a la baja , razon que puede tener varias explicaciones , la que personalmente yo daria es que esto es responsabilidad  de la pandemia de covid que afecto en como los niños juegan el año 2020 ademas del incremento del uso de la tecnologia en los menores"
   ]
  },
  {
   "cell_type": "markdown",
   "id": "047c1e61",
   "metadata": {},
   "source": [
    "**c) (0.5 pts)** ¿Entre qué años hubo un mayor aumento de publicación de juegos de mesa según los registros de BGG?"
   ]
  },
  {
   "cell_type": "markdown",
   "id": "bc389fd7",
   "metadata": {},
   "source": [
    "se puede observar que a partir del año 1997 se nota una tendencia bien importante a la alta que se detiene en el año 2019, significando que desde estos años se tiene un aumento, sin embargo, si se pregunta por el rango de años donde se publicaron mas juegos de mesa , estos serian 2017 a 2022"
   ]
  },
  {
   "cell_type": "markdown",
   "id": "6c22b65f",
   "metadata": {},
   "source": [
    "### 3.3 Análisis de duración y complejidad (1.5 puntos)\n",
    "\n",
    "Si bien hay muchas posibles características que podemos explorar para los juegos de mesa, esta vez nos centraremos en el tiempo de juego y la complejidad. En esta sección queremos comprender si se ha modificado notablemente la duración promedio y la percepción de complejidad de los juegos de mesa a través de los años."
   ]
  },
  {
   "cell_type": "markdown",
   "id": "e6f0c875",
   "metadata": {},
   "source": [
    "**a) (0.3 pts)** Inspecciones y filtre los datos que tengan valores válidos para: tiempo mínimo de juego, tiempo máximo de juego y complejidad. En el caso de que existan \"outliers\", puede descartarlos, cosiderando un rango razonable para las variables anteriores. Justifique su desición."
   ]
  },
  {
   "cell_type": "code",
   "execution_count": 8,
   "id": "0e87bbc2",
   "metadata": {},
   "outputs": [
    {
     "name": "stdout",
     "output_type": "stream",
     "text": [
      "   min_time  max_time  complexity\n",
      "0     240.0     240.0      4.3144\n",
      "1      30.0      30.0      1.9636\n",
      "2      30.0      60.0      2.4784\n",
      "3      60.0      60.0      2.6667\n",
      "4      90.0      90.0      2.4985\n"
     ]
    }
   ],
   "source": [
    "datos_tiempo_de_juego = df_2[[\"min_time\",\"max_time\",\"complexity\"]]\n",
    "\n",
    "print(datos_tiempo_de_juego.head())"
   ]
  },
  {
   "cell_type": "markdown",
   "id": "b5d0aad7",
   "metadata": {},
   "source": [
    "se tomaron estos datos por el mismo nombre que poseen, se asume que tanto min/max time se refieren a tiempo de juego y complexity como una representacion numericas de la dificultad del juego"
   ]
  },
  {
   "cell_type": "markdown",
   "id": "848e2dee",
   "metadata": {},
   "source": [
    "**b) (0.2 pts)** Veremos ahora si ha cambiado la duración promedio de los juegos de mesa en nuestro rango de años seleccionado. Primero, cree una nueva columna `avg_time` en el dataset con la duración promedio supuesta para cada juego."
   ]
  },
  {
   "cell_type": "code",
   "execution_count": 9,
   "id": "204778d8",
   "metadata": {},
   "outputs": [
    {
     "name": "stdout",
     "output_type": "stream",
     "text": [
      "0    240.0\n",
      "1     30.0\n",
      "2     45.0\n",
      "3     60.0\n",
      "4     90.0\n",
      "Name: avg_time, dtype: float64\n"
     ]
    }
   ],
   "source": [
    "df_2[\"avg_time\"] = ((datos_tiempo_de_juego[\"min_time\"] + datos_tiempo_de_juego[\"max_time\"]) / 2)\n",
    "\n",
    "print(df_2[\"avg_time\"].head())"
   ]
  },
  {
   "cell_type": "markdown",
   "id": "89df6ae6",
   "metadata": {},
   "source": [
    "**c) (0.5 pts)** Grafique la duración promedio de juegos al año entre 1980 y 2025. ¿Existe alguna tendencia? Asegúrese de colocar las unidades correspondientes en sus ejes si es necesario. Comente sus resultados."
   ]
  },
  {
   "cell_type": "code",
   "execution_count": null,
   "id": "765da813",
   "metadata": {},
   "outputs": [
    {
     "data": {
      "image/png": "[encoded data removed]",
      "text/plain": [
       "<Figure size 1400x700 with 1 Axes>"
      ]
     },
     "metadata": {},
     "output_type": "display_data"
    }
   ],
   "source": [
    "#grafico copiado del anterior, del apartado 3.2 b\n",
    "datos_trabajo_actual = df_2[(df_2[\"year\"] >= 1980) & (df_2[\"year\"] <= 2025)]\n",
    "avg_time_por_año = datos_trabajo_actual.groupby(\"year\")['avg_time'].mean()\n",
    "\n",
    "avg_time_por_año.plot(kind=\"bar\", figsize=(14,7))\n",
    "\n",
    "plt.title(\"Tiempo promedio de juego por año (1980–2025)\", fontsize=14)\n",
    "plt.xlabel(\"Año\")\n",
    "plt.ylabel(\"Tiempo promedio de juego (segundos)\")\n",
    "plt.xticks(rotation=90)\n",
    "plt.tight_layout()    \n",
    "plt.show()"
   ]
  },
  {
   "cell_type": "markdown",
   "id": "df422373",
   "metadata": {},
   "source": [
    "se nota como se jugaron mas juego de mesa en los años 2017 y entre los años 2020 a 2022, esto puede ser debido al covid y el hecho de estar todos confinados en casa"
   ]
  },
  {
   "cell_type": "markdown",
   "id": "a5847905",
   "metadata": {},
   "source": [
    "**d) (0.5 pts)** Nos interesa saber si los juegos de mesa recientes son más complejos que aquellos publicados antes de los 2000. BoardGameGeek permite evaluar la complejidad (o \"weight\") de un juego en una escala de 1 a 5, siendo 1 un juego \"liviano\" o fácil de entender, y 5 un juego \"pesado\" o complejo. Primero, seleccione los juegos que han sido evaluados por al menos 100 usuarios. Luego grafique la complejidad promedio de los juegos según año. Responda: ¿ha cambiado la percepción de complejidad entre juegos entre 1980 y la actualidad?"
   ]
  },
  {
   "cell_type": "code",
   "execution_count": null,
   "id": "776553e6",
   "metadata": {},
   "outputs": [],
   "source": []
  },
  {
   "cell_type": "markdown",
   "id": "9a241f39",
   "metadata": {},
   "source": [
    "### 3.4 Análisis de categorías comunes (2 puntos)\n",
    "\n",
    "Existe una gran diversidad de categorías de juegos de mesa. Ahora nos concentraremos en un grupo específico de ellas, con el fin de analizar cómo a cambiado la cantidad de juegos de estas clases desde 1980 hasta hoy.\n",
    "\n",
    "**a) (0.7 pts)** ¿Cuáles son las 5 categorías más comunes en los juegos del dataset? Muestre la cantidad de juegos que hay de cada una. Puede graficar estos valores, o bien, entregar un DataFrame con sus valores."
   ]
  },
  {
   "cell_type": "code",
   "execution_count": null,
   "id": "13730de1",
   "metadata": {},
   "outputs": [],
   "source": []
  },
  {
   "cell_type": "markdown",
   "id": "d9aa153e",
   "metadata": {},
   "source": [
    "**b) (0.3 pts)** Para cada una de estas 5 categorías, cree un DataFrame que contenga la cantidad de juegos en el dataset según año. Luego junte estos DataFrames en uno solo con los atributos de \"Año\", \"Categoría\" y \"Cantidad\"."
   ]
  },
  {
   "cell_type": "code",
   "execution_count": null,
   "id": "325d450d",
   "metadata": {},
   "outputs": [],
   "source": []
  },
  {
   "cell_type": "markdown",
   "id": "d299aa4c",
   "metadata": {},
   "source": [
    "**c) (1 pto)** Grafique, en un solo gráfico y con distintos colores, la cantidad de juegos por año según categoría. Preocúpese de ponerle etiquetas al gráfico para identificar cada categoría y una leyenda donde se muestre cada una. Comente: ¿ha habido un cambio entre los juegos más comunes en los años 80 y hoy?\n"
   ]
  },
  {
   "cell_type": "code",
   "execution_count": null,
   "id": "7ad14cda",
   "metadata": {},
   "outputs": [],
   "source": []
  },
  {
   "cell_type": "markdown",
   "id": "9db1ea34-4030-4b3a-8853-4ef75f894298",
   "metadata": {},
   "source": [
    "### 3.5 Análisis Crítico (Bono +0.5 puntos)\n",
    "\n",
    "¿Qué limitaciones o problemas encontraste en los datos?"
   ]
  },
  {
   "cell_type": "markdown",
   "id": "e918b049",
   "metadata": {},
   "source": []
  },
  {
   "cell_type": "markdown",
   "id": "fc432ea7",
   "metadata": {},
   "source": [
    "Uso de Ia en la tarea\n",
    "\n",
    "La tarea se hizo junto con la ayuda de github copilot, con el agente 03-mini , usando para escribir el codigo \n",
    "a medida que se fue escribiendo,tambien se uso gemini 2.5 pro para pedir ayuda en ciertas partes del codigo,\n",
    "\n",
    "ademas se leyo parte de la documentacion de pandas para entender mejor lo que se esta haciendo\n",
    "\n",
    "en el apartado 3.2 se le hizo la siguiente pregunta a gemini \n",
    "\n",
    "\"tengo un dataframe que en una de sus columnas posee \"year\" dime un codigo de como filtrarlo tanto si los datos esten en str como en int, que el codigo que des sea sin comentarios\"\n",
    "\n",
    "aqui esta la respuesta que dio:\n",
    "\"\"\"Claro, aquí tienes el código para filtrar un DataFrame de Pandas por la columna \"year\", tanto si los datos son de tipo int como str.\n",
    "\n",
    "Filtrar si 'year' es de tipo numérico (int)\n",
    "Si la columna 'year' ya es de tipo numérico, puedes aplicar el filtro directamente.\n",
    "\n",
    "Python\n",
    "\n",
    "import pandas as pd\n",
    "\n",
    "data_numeric = {'year': [2018, 2019, 2020, 2021, 2022],\n",
    "                'sales': [100, 150, 200, 250, 300]}\n",
    "df_numeric = pd.DataFrame(data_numeric)\n",
    "\n",
    "print(\"DataFrame Original (year como int):\")\n",
    "print(df_numeric)\n",
    "print(\"\\nTipo de dato de la columna 'year':\", df_numeric['year'].dtype)\n",
    "\n",
    "filtered_df_numeric = df_numeric[df_numeric['year'] > 2020]\n",
    "\n",
    "print(\"\\nDataFrame filtrado (años mayores a 2020):\")\n",
    "print(filtered_df_numeric)\n",
    "Salida de código\n",
    "DataFrame Original (year como int):\n",
    "   year  sales\n",
    "0  2018    100\n",
    "1  2019    150\n",
    "2  2020    200\n",
    "3  2021    250\n",
    "4  2022    300\n",
    "\n",
    "Tipo de dato de la columna 'year': int64\n",
    "\n",
    "DataFrame filtrado (años mayores a 2020):\n",
    "   year  sales\n",
    "3  2021    250\n",
    "4  2022    300\n",
    "\n",
    "Filtrar si 'year' es de tipo texto (str)\n",
    "Si la columna 'year' es de tipo string (object en Pandas), primero debes convertirla a un tipo numérico antes de poder aplicar un filtro de comparación.\n",
    "\n",
    "Python\n",
    "\n",
    "import pandas as pd\n",
    "\n",
    "data_str = {'year': ['2018', '2019', '2020', '2021', '2022'],\n",
    "            'sales': [100, 150, 200, 250, 300]}\n",
    "df_str = pd.DataFrame(data_str)\n",
    "\n",
    "print(\"DataFrame Original (year como str):\")\n",
    "print(df_str)\n",
    "print(\"\\nTipo de dato de la columna 'year':\", df_str['year'].dtype)\n",
    "\n",
    "df_str['year'] = pd.to_numeric(df_str['year'])\n",
    "filtered_df_str = df_str[df_str['year'] > 2020]\n",
    "\n",
    "print(\"\\nDataFrame filtrado (años mayores a 2020):\")\n",
    "print(filtered_df_str)\n",
    "Salida de código\n",
    "DataFrame Original (year como str):\n",
    "   year  sales\n",
    "0  2018    100\n",
    "1  2019    150\n",
    "2  2020    200\n",
    "3  2021    250\n",
    "4  2022    300\n",
    "\n",
    "Tipo de dato de la columna 'year': object\n",
    "\n",
    "DataFrame filtrado (años mayores a 2020):\n",
    "   year  sales\n",
    "3  2021    250\n",
    "4  2022    300\n",
    "\"\"\"\n",
    "\n",
    "\n",
    "\n",
    "en el apartado b , tambien a gemini se le pidio\n",
    "\"perfecto, ahora como puedo seleccionar datos entre un rango usando una columna de dataframes?? se consiso y enfocate en enseñarme para no tener que volvertelo a pedir\"\n",
    "\n",
    "su respuesta fue \"¡Claro! Para seleccionar datos dentro de un rango en una columna de un DataFrame, tienes dos métodos principales y muy efectivos. Te enseñaré ambos para que elijas el que más te guste y entiendas el concepto de fondo.\n",
    "\n",
    "Usemos este DataFrame de ejemplo para los casos:\n",
    "\n",
    "Python\n",
    "\n",
    "import pandas as pd\n",
    "\n",
    "data = {'Estudiante': ['Ana', 'Luis', 'Carla', 'Pedro', 'Sofía', 'Juan', 'Marta'],\n",
    "        'Calificacion': [95, 78, 85, 65, 72, 91, 88]}\n",
    "df = pd.DataFrame(data)\n",
    "Método 1: Indexación Booleana (El más flexible) 🧠\n",
    "Este es el método más común y poderoso porque se basa en crear \"máscaras\" de condiciones lógicas (True/False). La idea es pedirle a pandas que te devuelva solo las filas donde tu condición sea True.\n",
    "\n",
    "La sintaxis es: df[(df['columna'] >= valor_minimo) & (df['columna'] <= valor_maximo)]\n",
    "\n",
    "Desglose:\n",
    "\n",
    "df['Calificacion'] >= 70 crea una serie de True y False. Será True donde la calificación sea 70 o más.\n",
    "\n",
    "df['Calificacion'] <= 90 hace lo mismo para el límite superior.\n",
    "\n",
    "El símbolo & (Y lógico) combina ambas condiciones. Solo las filas que son True en ambas series se mantendrán.\n",
    "\n",
    "¡Importante! Cada condición debe ir entre paréntesis () debido a la forma en que Python y pandas evalúan las operaciones.\n",
    "\n",
    "Ejemplo: Seleccionar estudiantes con calificación entre 70 y 90.\n",
    "\n",
    "Python\n",
    "\n",
    "# Definimos el rango de calificaciones que nos interesa\n",
    "rango_calificaciones = df[(df['Calificacion'] >= 70) & (df['Calificacion'] <= 90)]\n",
    "\n",
    "print(rango_calificaciones)\n",
    "Resultado:\n",
    "\n",
    "  Estudiante  Calificacion\n",
    "1       Luis            78\n",
    "2      Carla            85\n",
    "4      Sofía            72\n",
    "6      Marta            88\n",
    "Método 2: Usando .between() (El más directo y legible) 👌\n",
    "Pandas tiene un método específico para rangos que hace el código un poco más limpio y fácil de leer.\n",
    "\n",
    "La sintaxis es: df[df['columna'].between(valor_minimo, valor_maximo)]\n",
    "\n",
    "Este método hace exactamente lo mismo que el anterior, pero en una sola función. Por defecto, incluye ambos extremos del rango (valor_minimo y valor_maximo).\n",
    "\n",
    "Ejemplo: Mismo objetivo, seleccionar estudiantes con calificación entre 70 y 90.\n",
    "\n",
    "Python\n",
    "\n",
    "# Usando el método .between() para mayor claridad\n",
    "rango_con_between = df[df['Calificacion'].between(70, 90)]\n",
    "\n",
    "print(rango_con_between)\n",
    "El resultado es idéntico al del método anterior.\n",
    "\n",
    "Resumen Clave para que no lo Olvides\n",
    "Para máxima flexibilidad (por si luego quieres combinar con otras condiciones usando | para \"O\"), usa la indexación booleana: df[(condicion1) & (condicion2)].\n",
    "\n",
    "Recuerda siempre los paréntesis ( ) alrededor de cada condición cuando usas & (Y) o | (O). Es el error más común.\n",
    "\n",
    "Para seleccionar un rango numérico de forma limpia y directa, usa .between(): df[df['columna'].between(min, max)]. Es más difícil equivocarse\"\n",
    "\n",
    "\n",
    "pregunta hecha a chatgpt 5 para la seccion 3.2 b\n",
    "\"tengo un dataset, llamado datos_trabajo_actual , necesito graficarlo año por año, en el rgo 1980 2025 , y tengo los datos filtrado en year de la forma (datos_trabajo_actual = df_2[(df_2[\"year\"] >= 1980) & (df_2[\"year\"] <= 2025)]) dame el codigo que lo grafique en la cantidad de años lanzados por año, esto seria de la forma df_2[publisher]\"\n",
    "\n",
    "respuesta \n",
    "\"Perfecto, entiendo 😄.\n",
    "Quieres un gráfico que muestre **la cantidad de lanzamientos por año** (en tu dataset `datos_trabajo_actual`), agrupando por la columna `\"year\"` y contando cuántos hay, posiblemente separados por `\"publisher\"`.\n",
    "\n",
    "Te paso un ejemplo de código en **pandas + matplotlib**:\n",
    "\n",
    "```python\n",
    "import matplotlib.pyplot as plt\n",
    "\n",
    "# Agrupamos por año y contamos cuántos registros hay por publisher\n",
    "lanzamientos_por_año = datos_trabajo_actual.groupby([\"year\", \"publisher\"]).size().reset_index(name=\"count\")\n",
    "\n",
    "# Pivot para graficar más fácil (años en filas, publishers en columnas)\n",
    "tabla_pivot = lanzamientos_por_año.pivot(index=\"year\", columns=\"publisher\", values=\"count\").fillna(0)\n",
    "\n",
    "# Graficamos\n",
    "tabla_pivot.plot(kind=\"bar\", stacked=True, figsize=(14,7))\n",
    "\n",
    "plt.title(\"Cantidad de lanzamientos por año (1980–2025)\", fontsize=14)\n",
    "plt.xlabel(\"Año\")\n",
    "plt.ylabel(\"Cantidad de lanzamientos\")\n",
    "plt.legend(title=\"Publisher\", bbox_to_anchor=(1.05, 1), loc=\"upper left\")\n",
    "plt.tight_layout()\n",
    "plt.show()\n",
    "```\n",
    "\n",
    "🔎 Explicación:\n",
    "\n",
    "* `groupby([\"year\", \"publisher\"]).size()` → cuenta cuántos registros hay por cada año y publisher.\n",
    "* `.pivot(...)` → reorganiza para que cada **publisher** sea una columna y cada **año** una fila.\n",
    "* `plot(kind=\"bar\", stacked=True)` → muestra un gráfico de barras apiladas, para ver cuántos lanzamientos por año y qué proporción corresponde a cada publisher.\n",
    "\n",
    "👉 Si quieres **solo la cantidad total por año** (sin separar por publisher), puedes simplificar:\n",
    "\n",
    "```python\n",
    "conteo_años = datos_trabajo_actual.groupby(\"year\").size()\n",
    "\n",
    "conteo_años.plot(kind=\"bar\", figsize=(14,7))\n",
    "plt.title(\"Cantidad de lanzamientos por año (1980–2025)\", fontsize=14)\n",
    "plt.xlabel(\"Año\")\n",
    "plt.ylabel(\"Cantidad de lanzamientos\")\n",
    "plt.show()\n",
    "```\n",
    "\n",
    "¿Quieres que el gráfico principal te lo haga **separado por publisher** (colores distintos) o prefieres solo el total por año 📊?\n",
    "\""
   ]
  },
  {
   "cell_type": "markdown",
   "id": "2d5e2a72",
   "metadata": {},
   "source": [
    "\n",
    "  "
   ]
  }
 ],
 "metadata": {
  "kernelspec": {
   "display_name": "Python 3",
   "language": "python",
   "name": "python3"
  },
  "language_info": {
   "codemirror_mode": {
    "name": "ipython",
    "version": 3
   },
   "file_extension": ".py",
   "mimetype": "text/x-python",
   "name": "python",
   "nbconvert_exporter": "python",
   "pygments_lexer": "ipython3",
   "version": "3.13.5"
  }
 },
 "nbformat": 4,
 "nbformat_minor": 5
}
